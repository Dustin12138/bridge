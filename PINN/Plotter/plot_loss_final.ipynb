{
  "nbformat": 4,
  "nbformat_minor": 0,
  "metadata": {
    "colab": {
      "provenance": []
    },
    "kernelspec": {
      "name": "python3",
      "display_name": "Python 3"
    },
    "language_info": {
      "name": "python"
    }
  },
  "cells": [
    {
      "cell_type": "code",
      "execution_count": null,
      "metadata": {
        "id": "51JUaBnvDuc-"
      },
      "outputs": [],
      "source": [
        "import matplotlib.pyplot as plt"
      ]
    },
    {
      "cell_type": "code",
      "source": [
        "import numpy as np"
      ],
      "metadata": {
        "id": "d-Tu3u4qHf8Q"
      },
      "execution_count": null,
      "outputs": []
    },
    {
      "cell_type": "code",
      "source": [
        "import pandas as pd"
      ],
      "metadata": {
        "id": "W7-GR9b4_jG6"
      },
      "execution_count": null,
      "outputs": []
    },
    {
      "cell_type": "code",
      "source": [
        "with_pinn= pd.read_csv( # CSV training logs file for PINN model)\n",
        "without_pinn=pd.rad_csv(# CSV training logs file for non PINN model)"
      ],
      "metadata": {
        "id": "xncQdP-B_dym"
      },
      "execution_count": null,
      "outputs": []
    },
    {
      "cell_type": "code",
      "source": [
        "def plot_graph(physics,n_p,name,file,av=False):\n",
        "  plt.plot(physics,label=\"With PINN\")\n",
        "  plt.plot(n_p,label=\"No PINN\")\n",
        "  if av==True:\n",
        "    plt.plot([np.mean(physics) for i in range(len(physics))],label=\"With PINN average loss\",linestyle=\"dashed\")\n",
        "\n",
        "    plt.plot([np.mean(n_p) for i in range(len(physics))],label=\"Without PINN average loss\",linestyle=\"dashed\")\n",
        "  plt.legend()\n",
        "  plt.xlabel(\"Epochs\")\n",
        "  plt.ylabel(name)\n",
        "  plt.savefig(file+\".png\")\n",
        "  plt.show()"
      ],
      "metadata": {
        "id": "J6Y7Jwj--3yB"
      },
      "execution_count": null,
      "outputs": []
    }
  ]
}